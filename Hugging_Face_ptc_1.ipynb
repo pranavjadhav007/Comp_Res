{
  "nbformat": 4,
  "nbformat_minor": 0,
  "metadata": {
    "colab": {
      "provenance": []
    },
    "kernelspec": {
      "name": "python3",
      "display_name": "Python 3"
    },
    "language_info": {
      "name": "python"
    }
  },
  "cells": [
    {
      "cell_type": "markdown",
      "source": [
        "Code carbon website gives the amount of carbon my computer emmets when working"
      ],
      "metadata": {
        "id": "dH_PnE8ZiEAj"
      }
    },
    {
      "cell_type": "code",
      "source": [
        "!pip install codecarbon"
      ],
      "metadata": {
        "colab": {
          "base_uri": "https://localhost:8080/"
        },
        "id": "D__QBobGibDa",
        "outputId": "8dd0755e-2e46-427d-e0e7-39ba85727342"
      },
      "execution_count": null,
      "outputs": [
        {
          "output_type": "stream",
          "name": "stdout",
          "text": [
            "Collecting codecarbon\n",
            "  Downloading codecarbon-2.3.5-py3-none-any.whl (174 kB)\n",
            "\u001b[2K     \u001b[90m━━━━━━━━━━━━━━━━━━━━━━━━━━━━━━━━━━━━━━━━\u001b[0m \u001b[32m174.6/174.6 kB\u001b[0m \u001b[31m2.7 MB/s\u001b[0m eta \u001b[36m0:00:00\u001b[0m\n",
            "\u001b[?25hCollecting arrow (from codecarbon)\n",
            "  Downloading arrow-1.3.0-py3-none-any.whl (66 kB)\n",
            "\u001b[2K     \u001b[90m━━━━━━━━━━━━━━━━━━━━━━━━━━━━━━━━━━━━━━━━\u001b[0m \u001b[32m66.4/66.4 kB\u001b[0m \u001b[31m6.5 MB/s\u001b[0m eta \u001b[36m0:00:00\u001b[0m\n",
            "\u001b[?25hRequirement already satisfied: pandas in /usr/local/lib/python3.10/dist-packages (from codecarbon) (2.0.3)\n",
            "Collecting pynvml (from codecarbon)\n",
            "  Downloading pynvml-11.5.0-py3-none-any.whl (53 kB)\n",
            "\u001b[2K     \u001b[90m━━━━━━━━━━━━━━━━━━━━━━━━━━━━━━━━━━━━━━━━\u001b[0m \u001b[32m53.1/53.1 kB\u001b[0m \u001b[31m4.5 MB/s\u001b[0m eta \u001b[36m0:00:00\u001b[0m\n",
            "\u001b[?25hRequirement already satisfied: requests in /usr/local/lib/python3.10/dist-packages (from codecarbon) (2.31.0)\n",
            "Requirement already satisfied: psutil in /usr/local/lib/python3.10/dist-packages (from codecarbon) (5.9.5)\n",
            "Requirement already satisfied: py-cpuinfo in /usr/local/lib/python3.10/dist-packages (from codecarbon) (9.0.0)\n"
          ]
        }
      ]
    },
    {
      "cell_type": "code",
      "execution_count": null,
      "metadata": {
        "id": "6PGe6JE0yV3N"
      },
      "outputs": [],
      "source": [
        "from codecarbon import EmissionsTracker\n",
        "tracker = EmissionsTracker()\n",
        "tracker.start()\n",
        "try:\n",
        "     # Compute intensive code goes here\n",
        "     _ = 1 + 1\n",
        "finally:\n",
        "     tracker.stop()"
      ]
    },
    {
      "cell_type": "code",
      "source": [
        "from transformers import pipeline"
      ],
      "metadata": {
        "id": "5PsacvlGiqmu"
      },
      "execution_count": null,
      "outputs": []
    },
    {
      "cell_type": "code",
      "source": [
        "classifier=pipeline('sentiment-analysis')"
      ],
      "metadata": {
        "id": "3vqS1ChXot08"
      },
      "execution_count": null,
      "outputs": []
    },
    {
      "cell_type": "code",
      "source": [
        "classifier(['I like going to my college.'])"
      ],
      "metadata": {
        "id": "AZEoYnkLo8Ru"
      },
      "execution_count": null,
      "outputs": []
    },
    {
      "cell_type": "code",
      "source": [
        "from transformers import TFAutoModel, AutoConfig, GPT2Config"
      ],
      "metadata": {
        "id": "CXiqhB-V0djY"
      },
      "execution_count": null,
      "outputs": []
    },
    {
      "cell_type": "code",
      "source": [
        "gpt_model=GPT2Config.from_pretrained(\"gpt2\")"
      ],
      "metadata": {
        "id": "-uUi0h8F00lf"
      },
      "execution_count": null,
      "outputs": []
    },
    {
      "cell_type": "code",
      "source": [
        "type(gpt_model)"
      ],
      "metadata": {
        "id": "0Nysd1KyIML7"
      },
      "execution_count": null,
      "outputs": []
    },
    {
      "cell_type": "code",
      "source": [
        "from transformers import T5Config, T5ForConditionalGeneration, T5Tokenizer\n",
        "\n",
        "model_name = \"allenai/t5-small-next-word-generator-qoogle\"\n",
        "tokenizer = T5Tokenizer.from_pretrained(model_name)\n",
        "model = T5ForConditionalGeneration.from_pretrained(model_name)\n",
        "\n",
        "def run_model(input_string, **generator_args):\n",
        "    input_ids = tokenizer.encode(input_string, return_tensors=\"pt\")\n",
        "    res = model.generate(input_ids, **generator_args)\n",
        "    output = tokenizer.batch_decode(res, skip_special_tokens=True)\n",
        "    print(output)\n",
        "    return output\n",
        "\n",
        "\n",
        "run_model(\"Which\")"
      ],
      "metadata": {
        "id": "wuWNsLTEnVQM"
      },
      "execution_count": null,
      "outputs": []
    },
    {
      "cell_type": "code",
      "source": [
        "from transformers import BertTokenizer\n",
        "\n",
        "tokenizer= BertTokenizer.from_pretrained('google-bert/bert-base-uncased')"
      ],
      "metadata": {
        "id": "4AVReFRPYzAz"
      },
      "execution_count": null,
      "outputs": []
    },
    {
      "cell_type": "code",
      "source": [
        "tokenizer.tokenize(\"Tokenise bert model\")"
      ],
      "metadata": {
        "id": "qR7B-VLHai5k"
      },
      "execution_count": null,
      "outputs": []
    },
    {
      "cell_type": "code",
      "source": [
        "from transformers import BertTokenizer"
      ],
      "metadata": {
        "id": "CDQw15NobPV1"
      },
      "execution_count": null,
      "outputs": []
    },
    {
      "cell_type": "code",
      "source": [
        "tokenize=BertTokenizer.from_pretrained('google-bert/bert-base-uncased')"
      ],
      "metadata": {
        "id": "a9kJvgXnf-lf"
      },
      "execution_count": null,
      "outputs": []
    },
    {
      "cell_type": "code",
      "source": [
        "from transformers import BertTokenizer"
      ],
      "metadata": {
        "id": "CklrqTTMNz5O"
      },
      "execution_count": null,
      "outputs": []
    },
    {
      "cell_type": "code",
      "source": [
        "!pip install codecarbon"
      ],
      "metadata": {
        "id": "2Yk44amGN-yh"
      },
      "execution_count": null,
      "outputs": []
    },
    {
      "cell_type": "code",
      "source": [
        "from transformers import GPT2Config"
      ],
      "metadata": {
        "id": "qXO7Xoq4OJqG"
      },
      "execution_count": null,
      "outputs": []
    },
    {
      "cell_type": "code",
      "source": [
        "gptmodel=GPT2Config.from_pretrained('gpt2')"
      ],
      "metadata": {
        "id": "MhmbUDWhOQch"
      },
      "execution_count": null,
      "outputs": []
    },
    {
      "cell_type": "code",
      "source": [
        "type(gptmodel)"
      ],
      "metadata": {
        "id": "bj4DqWhkObul"
      },
      "execution_count": null,
      "outputs": []
    },
    {
      "cell_type": "code",
      "source": [
        "def __init__(embd_pdrop=0.1, activation_function='gelu_new',summary_type='cls_index', attn_pdrop=0.1):\n",
        "  pass"
      ],
      "metadata": {
        "id": "bm4R4h1gOjNC"
      },
      "execution_count": null,
      "outputs": []
    },
    {
      "cell_type": "code",
      "source": [
        "!pip install huggingface_hub"
      ],
      "metadata": {
        "id": "qeBtHkiuTgSF"
      },
      "execution_count": null,
      "outputs": []
    },
    {
      "cell_type": "code",
      "source": [
        "from huggingface_hub import notebook_login"
      ],
      "metadata": {
        "id": "U9OncigOToF8"
      },
      "execution_count": null,
      "outputs": []
    },
    {
      "cell_type": "code",
      "source": [
        "notebook_login()"
      ],
      "metadata": {
        "id": "NVc1T0x0Txnz"
      },
      "execution_count": null,
      "outputs": []
    },
    {
      "cell_type": "code",
      "source": [
        "from huggingface_hub import upload_file"
      ],
      "metadata": {
        "id": "0ct7xAi0UGED"
      },
      "execution_count": null,
      "outputs": []
    },
    {
      "cell_type": "code",
      "source": [
        "upload_file(\"/content/t copy.jpg\",repo_id=\"Jocker007/Test\")"
      ],
      "metadata": {
        "id": "7CsnqpN2UrBt"
      },
      "execution_count": null,
      "outputs": []
    },
    {
      "cell_type": "code",
      "source": [
        "!pip install -U adapter-transformers"
      ],
      "metadata": {
        "id": "MmLNV3Qs-9q5"
      },
      "execution_count": null,
      "outputs": []
    },
    {
      "cell_type": "code",
      "source": [
        "from transformers import AutoModelWithHeads\n",
        "\n",
        "model = AutoModelWithHeads.from_pretrained(\"bert-base-uncased\")\n",
        "adapter_name = model.load_adapter(\"AdapterHub/bert-base-uncased-pf-fce_error_detection\", source=\"hf\")\n",
        "model.active_adapters = adapter_name"
      ],
      "metadata": {
        "id": "1M2HIZmfVV5V"
      },
      "execution_count": null,
      "outputs": []
    },
    {
      "cell_type": "code",
      "source": [],
      "metadata": {
        "id": "a6n9RDRg_T--"
      },
      "execution_count": null,
      "outputs": []
    }
  ]
}